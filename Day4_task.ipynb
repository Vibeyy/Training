{
 "cells": [
  {
   "cell_type": "code",
   "execution_count": 1,
   "id": "a69bd0a1",
   "metadata": {},
   "outputs": [],
   "source": [
    "import pandas as pd"
   ]
  },
  {
   "cell_type": "markdown",
   "id": "71bef14b",
   "metadata": {},
   "source": [
    "2. Pandas Series And Dataframes\n",
    "Q1."
   ]
  },
  {
   "cell_type": "code",
   "execution_count": 2,
   "id": "0c93f570",
   "metadata": {},
   "outputs": [
    {
     "data": {
      "text/plain": [
       "Student_1    65\n",
       "Student_2    70\n",
       "Student_3    85\n",
       "Student_4    90\n",
       "Student_5    55\n",
       "dtype: int64"
      ]
     },
     "execution_count": 2,
     "metadata": {},
     "output_type": "execute_result"
    }
   ],
   "source": [
    "marks = [65,70,85,90,55]\n",
    "df = pd.Series(marks,index=['Student_1','Student_2','Student_3','Student_4','Student_5'])\n",
    "df"
   ]
  },
  {
   "cell_type": "code",
   "execution_count": 3,
   "id": "d6315dcd",
   "metadata": {},
   "outputs": [
    {
     "data": {
      "text/plain": [
       "73.0"
      ]
     },
     "execution_count": 3,
     "metadata": {},
     "output_type": "execute_result"
    }
   ],
   "source": [
    "avg = df.mean()\n",
    "avg"
   ]
  },
  {
   "cell_type": "code",
   "execution_count": 4,
   "id": "6d43274a",
   "metadata": {},
   "outputs": [
    {
     "data": {
      "text/plain": [
       "Student_3    85\n",
       "Student_4    90\n",
       "dtype: int64"
      ]
     },
     "execution_count": 4,
     "metadata": {},
     "output_type": "execute_result"
    }
   ],
   "source": [
    "students = df[df>75]\n",
    "students"
   ]
  },
  {
   "cell_type": "markdown",
   "id": "d2cc6bfe",
   "metadata": {},
   "source": [
    "Q2."
   ]
  },
  {
   "cell_type": "code",
   "execution_count": 11,
   "id": "654043c6",
   "metadata": {},
   "outputs": [
    {
     "data": {
      "text/plain": [
       "EmpId             int64\n",
       "EmpName          object\n",
       "EmpSalary         int64\n",
       "EmpDepartment    object\n",
       "dtype: object"
      ]
     },
     "execution_count": 11,
     "metadata": {},
     "output_type": "execute_result"
    }
   ],
   "source": [
    "data = {'EmpId':[1,2,3,4,5],\n",
    "    'EmpName':[\"A\",\"B\",\"C\",\"D\",\"E\"],\n",
    "    'EmpSalary':[10000,20000,30000,40000,50000],\n",
    "    'EmpDepartment':[\"IT\",\"HR\",\"IT\",\"HR\",\"IT\"]}\n",
    "df = pd.DataFrame(data)\n",
    "\n",
    "df.dtypes"
   ]
  },
  {
   "cell_type": "code",
   "execution_count": 12,
   "id": "1e5210ed",
   "metadata": {},
   "outputs": [
    {
     "data": {
      "text/html": [
       "<div>\n",
       "<style scoped>\n",
       "    .dataframe tbody tr th:only-of-type {\n",
       "        vertical-align: middle;\n",
       "    }\n",
       "\n",
       "    .dataframe tbody tr th {\n",
       "        vertical-align: top;\n",
       "    }\n",
       "\n",
       "    .dataframe thead th {\n",
       "        text-align: right;\n",
       "    }\n",
       "</style>\n",
       "<table border=\"1\" class=\"dataframe\">\n",
       "  <thead>\n",
       "    <tr style=\"text-align: right;\">\n",
       "      <th></th>\n",
       "      <th>EmpId</th>\n",
       "      <th>EmpName</th>\n",
       "      <th>EmpSalary</th>\n",
       "      <th>EmpDepartment</th>\n",
       "      <th>Bonus</th>\n",
       "    </tr>\n",
       "  </thead>\n",
       "  <tbody>\n",
       "    <tr>\n",
       "      <th>0</th>\n",
       "      <td>1</td>\n",
       "      <td>A</td>\n",
       "      <td>10000</td>\n",
       "      <td>IT</td>\n",
       "      <td>1000.0</td>\n",
       "    </tr>\n",
       "    <tr>\n",
       "      <th>1</th>\n",
       "      <td>2</td>\n",
       "      <td>B</td>\n",
       "      <td>20000</td>\n",
       "      <td>HR</td>\n",
       "      <td>2000.0</td>\n",
       "    </tr>\n",
       "    <tr>\n",
       "      <th>2</th>\n",
       "      <td>3</td>\n",
       "      <td>C</td>\n",
       "      <td>30000</td>\n",
       "      <td>IT</td>\n",
       "      <td>3000.0</td>\n",
       "    </tr>\n",
       "    <tr>\n",
       "      <th>3</th>\n",
       "      <td>4</td>\n",
       "      <td>D</td>\n",
       "      <td>40000</td>\n",
       "      <td>HR</td>\n",
       "      <td>4000.0</td>\n",
       "    </tr>\n",
       "    <tr>\n",
       "      <th>4</th>\n",
       "      <td>5</td>\n",
       "      <td>E</td>\n",
       "      <td>50000</td>\n",
       "      <td>IT</td>\n",
       "      <td>5000.0</td>\n",
       "    </tr>\n",
       "  </tbody>\n",
       "</table>\n",
       "</div>"
      ],
      "text/plain": [
       "   EmpId EmpName  EmpSalary EmpDepartment   Bonus\n",
       "0      1       A      10000            IT  1000.0\n",
       "1      2       B      20000            HR  2000.0\n",
       "2      3       C      30000            IT  3000.0\n",
       "3      4       D      40000            HR  4000.0\n",
       "4      5       E      50000            IT  5000.0"
      ]
     },
     "execution_count": 12,
     "metadata": {},
     "output_type": "execute_result"
    }
   ],
   "source": [
    "df['Bonus'] = list(map(lambda x: x*0.1,df['EmpSalary']))\n",
    "df"
   ]
  }
 ],
 "metadata": {
  "kernelspec": {
   "display_name": "base",
   "language": "python",
   "name": "python3"
  },
  "language_info": {
   "codemirror_mode": {
    "name": "ipython",
    "version": 3
   },
   "file_extension": ".py",
   "mimetype": "text/x-python",
   "name": "python",
   "nbconvert_exporter": "python",
   "pygments_lexer": "ipython3",
   "version": "3.12.7"
  }
 },
 "nbformat": 4,
 "nbformat_minor": 5
}
